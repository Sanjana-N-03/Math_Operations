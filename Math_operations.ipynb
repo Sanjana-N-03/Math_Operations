{
 "cells": [
  {
   "cell_type": "code",
   "execution_count": 1,
   "id": "e4cfb315-f276-4d0d-b9cc-df9d8f9ca862",
   "metadata": {},
   "outputs": [
    {
     "name": "stdin",
     "output_type": "stream",
     "text": [
      "Enter the first number:  2\n",
      "Enter the second number:  7\n"
     ]
    },
    {
     "name": "stdout",
     "output_type": "stream",
     "text": [
      "\n",
      "Choose an operation:\n",
      "1. Addition (+)\n",
      "2. Subtraction (-)\n",
      "3. Multiplication (*)\n",
      "4. Division (/)\n"
     ]
    },
    {
     "name": "stdin",
     "output_type": "stream",
     "text": [
      "Enter choice (1/2/3/4):  2\n"
     ]
    },
    {
     "name": "stdout",
     "output_type": "stream",
     "text": [
      "\n",
      "Result: 2.0 - 7.0 = -5.0\n"
     ]
    }
   ],
   "source": [
    "# Simple Math Operations in Jupyter Notebook\n",
    "\n",
    "def calculator():\n",
    "    try:\n",
    "        # Taking user input\n",
    "        num1 = float(input(\"Enter the first number: \"))\n",
    "        num2 = float(input(\"Enter the second number: \"))\n",
    "\n",
    "        # Displaying available operations\n",
    "        print(\"\\nChoose an operation:\")\n",
    "        print(\"1. Addition (+)\")\n",
    "        print(\"2. Subtraction (-)\")\n",
    "        print(\"3. Multiplication (*)\")\n",
    "        print(\"4. Division (/)\")\n",
    "\n",
    "        # Taking operation choice input\n",
    "        choice = input(\"Enter choice (1/2/3/4): \")\n",
    "\n",
    "        # Performing calculation\n",
    "        if choice == '1':\n",
    "            result = num1 + num2\n",
    "            operation = \"+\"\n",
    "        elif choice == '2':\n",
    "            result = num1 - num2\n",
    "            operation = \"-\"\n",
    "        elif choice == '3':\n",
    "            result = num1 * num2\n",
    "            operation = \"*\"\n",
    "        elif choice == '4':\n",
    "            if num2 != 0:\n",
    "                result = num1 / num2\n",
    "                operation = \"/\"\n",
    "            else:\n",
    "                print(\"Error! Division by zero is not allowed.\")\n",
    "                return\n",
    "        else:\n",
    "            print(\"Invalid choice! Please select 1, 2, 3, or 4.\")\n",
    "            return\n",
    "        \n",
    "        # Displaying result\n",
    "        print(f\"\\nResult: {num1} {operation} {num2} = {result}\")\n",
    "\n",
    "    except ValueError:\n",
    "        print(\"Invalid input! Please enter numeric values.\")\n",
    "\n",
    "# Call the function\n",
    "calculator()\n"
   ]
  },
  {
   "cell_type": "code",
   "execution_count": null,
   "id": "a399eff5-9056-48b7-b5a0-c4c904cd59e1",
   "metadata": {},
   "outputs": [],
   "source": []
  }
 ],
 "metadata": {
  "kernelspec": {
   "display_name": "Python [conda env:base] *",
   "language": "python",
   "name": "conda-base-py"
  },
  "language_info": {
   "codemirror_mode": {
    "name": "ipython",
    "version": 3
   },
   "file_extension": ".py",
   "mimetype": "text/x-python",
   "name": "python",
   "nbconvert_exporter": "python",
   "pygments_lexer": "ipython3",
   "version": "3.12.7"
  }
 },
 "nbformat": 4,
 "nbformat_minor": 5
}
